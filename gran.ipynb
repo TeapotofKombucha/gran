{
 "cells": [
  {
   "cell_type": "code",
   "execution_count": 1,
   "metadata": {},
   "outputs": [],
   "source": [
    "from __future__ import absolute_import\n",
    "from __future__ import division\n",
    "from __future__ import print_function\n",
    "\n",
    "import tensorflow as tf\n",
    "import numpy as np\n",
    "import pandas as pd\n",
    "from sklearn.model_selection import train_test_split\n",
    "\n",
    "import os"
   ]
  },
  {
   "cell_type": "code",
   "execution_count": 3,
   "metadata": {},
   "outputs": [
    {
     "ename": "IndentationError",
     "evalue": "expected an indented block (Temp/ipykernel_16808/3064220606.py, line 61)",
     "output_type": "error",
     "traceback": [
      "\u001b[1;36m  File \u001b[1;32m\"C:\\Users\\Denis\\AppData\\Local\\Temp/ipykernel_16808/3064220606.py\"\u001b[1;36m, line \u001b[1;32m61\u001b[0m\n\u001b[1;33m    MUSHROOM_DATA_FILE = \"r'C:\\Users\\Denis\\Desktop\\dataset_test.csv'\"\u001b[0m\n\u001b[1;37m    ^\u001b[0m\n\u001b[1;31mIndentationError\u001b[0m\u001b[1;31m:\u001b[0m expected an indented block\n"
     ]
    }
   ],
   "source": [
    "\n",
    "\n",
    "def prepare_data(data_file_name):\n",
    "    header = ['0', '1', '2']\n",
    "    df = pd.read_csv(r'C:\\Users\\Denis\\Desktop\\dataset_test.csv', sep=',', names=header)\n",
    "\n",
    "    df.replace('?', np.nan, inplace=True)\n",
    "    df.dropna(inplace=True)\n",
    "\n",
    "    df_train, df_test = train_test_split(df, test_size=0.1)\n",
    "\n",
    "    num_train_entries = df_train.shape[0]\n",
    "    num_train_features = df_train.shape[1] - 1\n",
    "\n",
    "    num_test_entries = df_test.shape[0]\n",
    "    num_test_features = df_test.shape[1] - 1\n",
    "\n",
    "    df_train.to_csv('train_temp.csv', index=False)\n",
    "    df_test.to_csv('test_temp.csv', index=False)\n",
    "\n",
    "    open(\"mushroom_train.csv\", \"w\").write(str(num_train_entries) +\n",
    "    \",\" + str(num_train_features) +\n",
    "    \",\" + open(\"train_temp.csv\").read())\n",
    "\n",
    "    open(\"mushroom_test.csv\", \"w\").write(str(num_test_entries) +\n",
    "    \",\" + str(num_test_features) +\n",
    "    \",\" + open(\"test_temp.csv\").read())\n",
    "\n",
    "    os.remove(\"train_temp.csv\")\n",
    "    os.remove(\"test_temp.csv\")\n",
    "\n",
    "\n",
    "def get_test_inputs():\n",
    "    x = tf.constant(test_set.data)\n",
    "    y = tf.constant(test_set.target)\n",
    "\n",
    "    return x, y\n",
    "\n",
    "\n",
    "def get_train_inputs():\n",
    "    x = tf.constant(training_set.data)\n",
    "    y = tf.constant(training_set.target)\n",
    "\n",
    "    return x, y\n",
    "\n",
    "\n",
    "\n",
    "if __name__ == \"__main__\":\n",
    "MUSHROOM_DATA_FILE = \"agaricus-lepiota.data\"\n",
    "\n",
    "\n",
    "prepare_data(MUSHROOM_DATA_FILE)\n",
    "\n",
    "\n",
    "training_set = tf.contrib.learn.datasets.base.load_csv_with_header(\n",
    "filename='mushroom_train.csv',\n",
    "target_dtype=np.int,\n",
    "features_dtype=np.int,\n",
    "target_column=0)\n",
    "\n",
    "test_set = tf.contrib.learn.datasets.base.load_csv_with_header(\n",
    "filename='mushroom_test.csv',\n",
    "target_dtype=np.int,\n",
    "features_dtype=np.int,\n",
    "target_column=0)\n",
    "\n",
    "\n",
    "feature_columns = [tf.contrib.layers.real_valued_column(\"\", dimension=98)]\n",
    "\n",
    "\n",
    "classifier = tf.contrib.learn.DNNClassifier(\n",
    "feature_columns=feature_columns,\n",
    "hidden_units=[10, 20, 10],\n",
    "n_classes=2,\n",
    "model_dir=\"/tmp/mushroom_model\")\n",
    "\n",
    "\n",
    "classifier.fit(input_fn=get_train_inputs, steps=2000)\n",
    "\n",
    "\n",
    "accuracy_score = classifier.evaluate(input_fn=get_test_inputs,\n",
    "steps=1)[\"accuracy\"]\n",
    "\n",
    "print(\"\\nТочность предсказаний: {0:f}\\n\".format(accuracy_score))\n",
    "\n"
   ]
  }
 ],
 "metadata": {
  "kernelspec": {
   "display_name": "Python 3.9.13 64-bit (windows store)",
   "language": "python",
   "name": "python3"
  },
  "language_info": {
   "codemirror_mode": {
    "name": "ipython",
    "version": 3
   },
   "file_extension": ".py",
   "mimetype": "text/x-python",
   "name": "python",
   "nbconvert_exporter": "python",
   "pygments_lexer": "ipython3",
   "version": "3.9.13"
  },
  "orig_nbformat": 4,
  "vscode": {
   "interpreter": {
    "hash": "4529aa749598bf5c8569445694a5567b9fb6a528a218d00cf5a01e646883f00e"
   }
  }
 },
 "nbformat": 4,
 "nbformat_minor": 2
}
